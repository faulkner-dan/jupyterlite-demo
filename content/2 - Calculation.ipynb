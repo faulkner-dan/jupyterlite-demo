{
 "cells": [
  {
   "cell_type": "markdown",
   "id": "4d9d3503-6335-454b-a11e-e4495853a090",
   "metadata": {},
   "source": [
    "# Working with numbers\n",
    "There are many, many Python packages devoted to various kinds of math. Some popular ones:\n",
    "- [NumPy](https://numpy.org/) - Arrays, Trigonometry, Arrays, Polynomials, Statistics\n",
    "- [SciPy](https://www.scipy.org/index.html) - Linear algebra, Integration, Optimization, Curve fitting, Fourier Transform, Signal processing, Statistics, Differential equations, etc.\n",
    "- [SymPy](https://www.sympy.org/en/index.html) - Symbolic math, Equation solving, Integration, Differentiation, Differential equations\n",
    "\n",
    "The SymPy package lets you manipulate and solve equations..."
   ]
  },
  {
   "cell_type": "code",
   "execution_count": null,
   "id": "6e2877de-01ee-4c02-84c5-1094c541852b",
   "metadata": {},
   "outputs": [],
   "source": [
    "#Setup a few things\n",
    "%pip install -q ipympl\n",
    "%matplotlib widget\n",
    "import matplotlib.pyplot as plt\n",
    "from sympy import *\n",
    "x,y = symbols('x y')"
   ]
  },
  {
   "cell_type": "markdown",
   "id": "77b7fdec-3a93-4f8d-af7c-e79b06f89239",
   "metadata": {},
   "source": [
    "### Simplifying a complex expression:"
   ]
  },
  {
   "cell_type": "code",
   "execution_count": null,
   "id": "1473f898-3212-4825-ac54-8b4668b0506c",
   "metadata": {},
   "outputs": [],
   "source": [
    "expr1 = (x + x**2)/(x*sin(y)**2 + x*cos(y)**2)\n",
    "display (expr1)\n",
    "simplify (expr1)"
   ]
  },
  {
   "cell_type": "markdown",
   "id": "1d5d30cf-52fc-41b8-b5c4-23ceb771af16",
   "metadata": {},
   "source": [
    "### Solving a system of equations:"
   ]
  },
  {
   "cell_type": "code",
   "execution_count": null,
   "id": "402dbd1b-589a-4dba-8217-8d35e6cd6ad5",
   "metadata": {},
   "outputs": [],
   "source": [
    "x, y = symbols('x y')\n",
    "eq1 = Eq(4*x + 3*y,0)\n",
    "eq2 = Eq(6*x - y,1)\n",
    "\n",
    "display (eq1)\n",
    "display (eq2)\n",
    "\n",
    "solve((eq1,eq2),(x,y))"
   ]
  },
  {
   "cell_type": "markdown",
   "id": "10727150-fe49-440a-9c4e-6feb0e44c97a",
   "metadata": {},
   "source": [
    "### Integration:"
   ]
  },
  {
   "cell_type": "code",
   "execution_count": null,
   "id": "e0ff633d",
   "metadata": {},
   "outputs": [],
   "source": [
    "expr2 = x**2 * exp(x) * cos(x)\n",
    "expr2"
   ]
  },
  {
   "cell_type": "markdown",
   "id": "7408f84f-dffc-47d3-8e16-31377c9952aa",
   "metadata": {},
   "source": [
    "#### Indefinite integral"
   ]
  },
  {
   "cell_type": "code",
   "execution_count": null,
   "id": "d7806622-b5db-4200-8d82-1299857e13ca",
   "metadata": {},
   "outputs": [],
   "source": [
    "integrate(expr2, x)"
   ]
  },
  {
   "cell_type": "markdown",
   "id": "a4a8f62b-0b0c-42df-b857-2119361b2d77",
   "metadata": {},
   "source": [
    "#### Definite integral"
   ]
  },
  {
   "cell_type": "code",
   "execution_count": null,
   "id": "1bc8679d-6df8-4b1e-bd83-dee7f92f4f5e",
   "metadata": {},
   "outputs": [],
   "source": [
    "integrate(expr2, (x,0,1))"
   ]
  },
  {
   "cell_type": "markdown",
   "id": "649cb009-3706-4073-9db5-408773967bbb",
   "metadata": {},
   "source": [
    "### Plotting"
   ]
  },
  {
   "cell_type": "markdown",
   "id": "717c4b95-cd46-478a-8faf-7c3aef15fa77",
   "metadata": {},
   "source": [
    "Plots can be interactive. Try running the cell below, and then pan and zoom in the plot it generates."
   ]
  },
  {
   "cell_type": "code",
   "execution_count": null,
   "id": "070ea648-4b88-4c11-8f4e-a64d629a7c07",
   "metadata": {},
   "outputs": [],
   "source": [
    "plot(expr2, (x,0,2), yscale='log')"
   ]
  },
  {
   "cell_type": "code",
   "execution_count": null,
   "id": "0cae7c32-caf6-4bef-a1c1-e4540edfdb2b",
   "metadata": {},
   "outputs": [],
   "source": [
    "from mpl_toolkits.mplot3d import axes3d\n",
    "from matplotlib import cm\n",
    "\n",
    "fig = plt.figure()\n",
    "ax = fig.add_subplot(111, projection=\"3d\")\n",
    "\n",
    "# Grab some test data.\n",
    "X, Y, Z = axes3d.get_test_data(0.05)\n",
    "\n",
    "# Plot a basic 3D wireframe.\n",
    "ax.plot_wireframe(X, Y, Z)\n",
    "\n",
    "#Or uncomment this line to plot it as a surface\n",
    "# ax.plot_surface(X, Y, Z, cmap=cm.coolwarm)\n",
    "\n",
    "plt.show()"
   ]
  },
  {
   "cell_type": "markdown",
   "id": "acb5c628-e003-48cc-b1a6-42842a543b20",
   "metadata": {},
   "source": [
    "### Plotting options\n",
    "There are several popular plotting packages. The most common one is [Matplotlib](https://matplotlib.org/), which can create almost any kind of plot you can imagine:\n",
    "- Line, bar, pie\n",
    "- Histogram\n",
    "- Box plot\n",
    "- Contour\n",
    "- 3D\n",
    "- Heatmap\n",
    "- Quiver\n",
    "- Multiple subplots\n",
    "- Fill between curves\n",
    "\n",
    "Matplotlib has a [huge gallery of examples](https://matplotlib.org/stable/gallery/index.html)\n",
    "\n",
    "Other popular plotting packages: Plotly, Seaborn, Bokeh, ggplot, Altair"
   ]
  },
  {
   "cell_type": "markdown",
   "id": "3bc3e017-5ff0-4ad3-890f-22e24343887b",
   "metadata": {},
   "source": [
    "---\n",
    "## Other calculation options\n",
    "There are thousands of Python libraries for all kinds of tasks:\n",
    "\n",
    "- [Pandas](https://pandas.pydata.org/) - Data frames, Data filtering and slicing, Large datasets, Statistics, Plotting\n",
    "- [Matplotlib](https://matplotlib.org/) - Plotting\n",
    "- [Pint](https://pint.readthedocs.io/en/stable/) - Add units to calculations, convert units\n",
    "- [Uncertainties](https://pythonhosted.org/uncertainties/), [soerp](https://pypi.org/project/soerp/), [mcerp](https://pypi.org/project/mcerp/) - Uncertainty/tolerance calcuations\n",
    "- [ipysheets](https://ipysheet.readthedocs.io/en/stable/) - Spreadsheets within a Jupyter notebook\n",
    "- [Pivottablejs](https://github.com/nicolaskruchten/jupyter_pivottablejs) - Drag and drop pivot tables\n",
    "\n",
    "- [PYro](http://pyromat.org/) - Thermodynamic material properties\n",
    "- [PySpice](https://pypi.org/project/PySpice/) - Circuit simulation\n",
    "- [Scikit-rf](http://scikit-rf.org/) - RF and microwave engineering\n",
    "- [Magpylib](https://magpylib.readthedocs.io/en/latest/) - Magnetic field simluations\n",
    "- [Scikit-image](https://scikit-image.org/) - Image processing\n",
    "- Data acquisition - [National Instruments](https://knowledge.ni.com/KnowledgeArticleDetails?id=kA00Z0000019Pf1SAE), [Measurement Computing/Omega](https://pypi.org/project/mcculw/), [Microdaq](http://www.microdaq.org/software/python/using-microdaq-with-python.html), [OpenDAQ](https://github.com/openDAQ/python-opendaq), [DATAQ](https://www.dataq.com/blog/data-acquisition/programming/python-github/), [LabJack](https://labjack.com/support/software/examples/ljm/python), [Opto22](http://developer.opto22.com/pythonmmp/pythonpackage/)\n",
    "- Physics, Astronomy, Biology, Chemistry, Machine learning, etc."
   ]
  },
  {
   "cell_type": "code",
   "execution_count": null,
   "id": "769d76c6-f57e-41b4-91b6-209196b01e7b",
   "metadata": {},
   "outputs": [],
   "source": []
  }
 ],
 "metadata": {
  "kernelspec": {
   "display_name": "Python 3 (ipykernel)",
   "language": "python",
   "name": "python3"
  },
  "language_info": {
   "codemirror_mode": {
    "name": "ipython",
    "version": 3
   },
   "file_extension": ".py",
   "mimetype": "text/x-python",
   "name": "python",
   "nbconvert_exporter": "python",
   "pygments_lexer": "ipython3",
   "version": "3.9.12"
  }
 },
 "nbformat": 4,
 "nbformat_minor": 5
}
