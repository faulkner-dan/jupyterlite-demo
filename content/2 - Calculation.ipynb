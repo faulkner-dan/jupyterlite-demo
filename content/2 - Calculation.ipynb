{
 "cells": [
  {
   "cell_type": "markdown",
   "id": "4d9d3503-6335-454b-a11e-e4495853a090",
   "metadata": {},
   "source": [
    "# Working with numbers\n",
    "There are many, many Python packages devoted to various kinds of math. Some popular ones:\n",
    "- [NumPy](https://numpy.org/) - Arrays, Trigonometry, Arrays, Polynomials, Statistics\n",
    "- [SciPy](https://www.scipy.org/index.html) - Linear algebra, Integration, Optimization, Curve fitting, Fourier Transform, Signal processing, Statistics, Differential equations, etc.\n",
    "- [SymPy](https://www.sympy.org/en/index.html) - Symbolic math, Equation solving, Integration, Differentiation, Differential equations\n",
    "\n",
    "The SymPy package lets you manipulate and solve equations..."
   ]
  },
  {
   "cell_type": "code",
   "execution_count": 1,
   "id": "6e2877de-01ee-4c02-84c5-1094c541852b",
   "metadata": {},
   "outputs": [
    {
     "name": "stderr",
     "output_type": "stream",
     "text": [
      "ERROR: pip's dependency resolver does not currently take into account all the packages that are installed. This behaviour is the source of the following dependency conflicts.\n",
      "spyder-kernels 2.1.3 requires jupyter-client<7,>=5.3.4, but you have jupyter-client 7.4.9 which is incompatible.\n",
      "nbclassic 0.3.5 requires jupyter-server~=1.8, but you have jupyter-server 2.5.0 which is incompatible.\n",
      "jupyterlab 3.3.2 requires jupyter-server~=1.4, but you have jupyter-server 2.5.0 which is incompatible.\n"
     ]
    },
    {
     "name": "stdout",
     "output_type": "stream",
     "text": [
      "Note: you may need to restart the kernel to use updated packages.\n"
     ]
    }
   ],
   "source": [
    "%pip install -q ipympl\n",
    "%matplotlib widget\n",
    "from sympy import *\n",
    "x,y = symbols('x y')"
   ]
  },
  {
   "cell_type": "markdown",
   "id": "77b7fdec-3a93-4f8d-af7c-e79b06f89239",
   "metadata": {},
   "source": [
    "### Simplifying a complex expression:"
   ]
  },
  {
   "cell_type": "code",
   "execution_count": 70,
   "id": "1473f898-3212-4825-ac54-8b4668b0506c",
   "metadata": {},
   "outputs": [
    {
     "data": {
      "text/latex": [
       "$\\displaystyle \\frac{x^{2} + x}{x \\sin^{2}{\\left(y \\right)} + x \\cos^{2}{\\left(y \\right)}}$"
      ],
      "text/plain": [
       "(x**2 + x)/(x*sin(y)**2 + x*cos(y)**2)"
      ]
     },
     "metadata": {},
     "output_type": "display_data"
    },
    {
     "data": {
      "text/latex": [
       "$\\displaystyle x + 1$"
      ],
      "text/plain": [
       "x + 1"
      ]
     },
     "execution_count": 70,
     "metadata": {},
     "output_type": "execute_result"
    }
   ],
   "source": [
    "expr1 = (x + x**2)/(x*sin(y)**2 + x*cos(y)**2)\n",
    "display (expr1)\n",
    "simplify (expr1)"
   ]
  },
  {
   "cell_type": "markdown",
   "id": "1d5d30cf-52fc-41b8-b5c4-23ceb771af16",
   "metadata": {},
   "source": [
    "### Solving a system of equations:"
   ]
  },
  {
   "cell_type": "code",
   "execution_count": 71,
   "id": "402dbd1b-589a-4dba-8217-8d35e6cd6ad5",
   "metadata": {},
   "outputs": [
    {
     "data": {
      "text/latex": [
       "$\\displaystyle 4 x + 3 y = 0$"
      ],
      "text/plain": [
       "Eq(4*x + 3*y, 0)"
      ]
     },
     "metadata": {},
     "output_type": "display_data"
    },
    {
     "data": {
      "text/latex": [
       "$\\displaystyle 6 x - y = 1$"
      ],
      "text/plain": [
       "Eq(6*x - y, 1)"
      ]
     },
     "metadata": {},
     "output_type": "display_data"
    },
    {
     "data": {
      "text/plain": [
       "{x: 3/22, y: -2/11}"
      ]
     },
     "execution_count": 71,
     "metadata": {},
     "output_type": "execute_result"
    }
   ],
   "source": [
    "x, y = symbols('x y')\n",
    "eq1 = Eq(4*x + 3*y,0)\n",
    "eq2 = Eq(6*x - y,1)\n",
    "\n",
    "display (eq1)\n",
    "display (eq2)\n",
    "\n",
    "solve((eq1,eq2),(x,y))"
   ]
  },
  {
   "cell_type": "markdown",
   "id": "10727150-fe49-440a-9c4e-6feb0e44c97a",
   "metadata": {},
   "source": [
    "### Integration:"
   ]
  },
  {
   "cell_type": "code",
   "execution_count": 3,
   "id": "e0ff633d",
   "metadata": {},
   "outputs": [
    {
     "data": {
      "text/latex": [
       "$\\displaystyle x^{2} e^{x} \\cos{\\left(x \\right)}$"
      ],
      "text/plain": [
       "x**2*exp(x)*cos(x)"
      ]
     },
     "execution_count": 3,
     "metadata": {},
     "output_type": "execute_result"
    }
   ],
   "source": [
    "expr2 = x**2 * exp(x) * cos(x)\n",
    "expr2"
   ]
  },
  {
   "cell_type": "markdown",
   "id": "7408f84f-dffc-47d3-8e16-31377c9952aa",
   "metadata": {},
   "source": [
    "#### Indefinite integral"
   ]
  },
  {
   "cell_type": "code",
   "execution_count": 112,
   "id": "d7806622-b5db-4200-8d82-1299857e13ca",
   "metadata": {},
   "outputs": [
    {
     "data": {
      "text/latex": [
       "$\\displaystyle \\frac{x^{2} e^{x} \\sin{\\left(x \\right)}}{2} + \\frac{x^{2} e^{x} \\cos{\\left(x \\right)}}{2} - x e^{x} \\sin{\\left(x \\right)} + \\frac{e^{x} \\sin{\\left(x \\right)}}{2} - \\frac{e^{x} \\cos{\\left(x \\right)}}{2}$"
      ],
      "text/plain": [
       "x**2*exp(x)*sin(x)/2 + x**2*exp(x)*cos(x)/2 - x*exp(x)*sin(x) + exp(x)*sin(x)/2 - exp(x)*cos(x)/2"
      ]
     },
     "execution_count": 112,
     "metadata": {},
     "output_type": "execute_result"
    }
   ],
   "source": [
    "integrate(expr2, x)"
   ]
  },
  {
   "cell_type": "markdown",
   "id": "a4a8f62b-0b0c-42df-b857-2119361b2d77",
   "metadata": {},
   "source": [
    "#### Definite integral"
   ]
  },
  {
   "cell_type": "code",
   "execution_count": 74,
   "id": "1bc8679d-6df8-4b1e-bd83-dee7f92f4f5e",
   "metadata": {},
   "outputs": [
    {
     "data": {
      "text/latex": [
       "$\\displaystyle \\frac{1}{2}$"
      ],
      "text/plain": [
       "1/2"
      ]
     },
     "execution_count": 74,
     "metadata": {},
     "output_type": "execute_result"
    }
   ],
   "source": [
    "integrate(expr2, (x,0,1))"
   ]
  },
  {
   "cell_type": "markdown",
   "id": "649cb009-3706-4073-9db5-408773967bbb",
   "metadata": {},
   "source": [
    "### Plotting"
   ]
  },
  {
   "cell_type": "code",
   "execution_count": 7,
   "id": "070ea648-4b88-4c11-8f4e-a64d629a7c07",
   "metadata": {},
   "outputs": [
    {
     "data": {
      "application/vnd.jupyter.widget-view+json": {
       "model_id": "ca512c3b124d4f408700bbd954b7cf72",
       "version_major": 2,
       "version_minor": 0
      },
      "image/png": "[encoded data removed]",
      "text/html": [
       "\n",
       "            <div style=\"display: inline-block;\">\n",
       "                <div class=\"jupyter-widgets widget-label\" style=\"text-align: center;\">\n",
       "                    Figure\n",
       "                </div>\n",
       "                <img src='data:image/png;base64,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' width=640.0/>\n",
       "            </div>\n",
       "        "
      ],
      "text/plain": [
       "Canvas(toolbar=Toolbar(toolitems=[('Home', 'Reset original view', 'home', 'home'), ('Back', 'Back to previous …"
      ]
     },
     "metadata": {},
     "output_type": "display_data"
    },
    {
     "data": {
      "text/plain": [
       "<sympy.plotting.plot.Plot at 0x242e7abfc10>"
      ]
     },
     "execution_count": 7,
     "metadata": {},
     "output_type": "execute_result"
    }
   ],
   "source": [
    "plot(expr2, (x,0,2), yscale='log')"
   ]
  },
  {
   "cell_type": "markdown",
   "id": "717c4b95-cd46-478a-8faf-7c3aef15fa77",
   "metadata": {},
   "source": [
    "Plots are interactive. Try panning and zooming in the plot above."
   ]
  },
  {
   "cell_type": "markdown",
   "id": "acb5c628-e003-48cc-b1a6-42842a543b20",
   "metadata": {},
   "source": [
    "### Plotting options\n",
    "There are several popular plotting packages. The most common one is [Matplotlib](https://matplotlib.org/), which can create almost any kind of plot you can imagine:\n",
    "- Line, bar, pie\n",
    "- Histogram\n",
    "- Box plot\n",
    "- Contour\n",
    "- 3D\n",
    "- Heatmap\n",
    "- Quiver\n",
    "- Multiple subplots\n",
    "- Fill between curves\n",
    "\n",
    "Matplotlib has a [huge gallery of examples](https://matplotlib.org/stable/gallery/index.html)\n",
    "\n",
    "Other popular plotting packages: Plotly, Seaborn, Bokeh, ggplot, Altair"
   ]
  },
  {
   "cell_type": "markdown",
   "id": "3bc3e017-5ff0-4ad3-890f-22e24343887b",
   "metadata": {},
   "source": [
    "---\n",
    "## Other calculation options\n",
    "There are thousands of Python libraries for all kinds of tasks:\n",
    "\n",
    "- [Pandas](https://pandas.pydata.org/) - Data frames, Data filtering and slicing, Large datasets, Statistics, Plotting\n",
    "- [Matplotlib](https://matplotlib.org/) - Plotting\n",
    "- [Pint](https://pint.readthedocs.io/en/stable/) - Add units to calculations, convert units\n",
    "- [Uncertainties](https://pythonhosted.org/uncertainties/), [soerp](https://pypi.org/project/soerp/), [mcerp](https://pypi.org/project/mcerp/) - Uncertainty/tolerance calcuations\n",
    "- [ipysheets](https://ipysheet.readthedocs.io/en/stable/) - Spreadsheets within a Jupyter notebook\n",
    "- [Pivottablejs](https://github.com/nicolaskruchten/jupyter_pivottablejs) - Drag and drop pivot tables\n",
    "\n",
    "- [PYro](http://pyromat.org/) - Thermodynamic material properties\n",
    "- [PySpice](https://pypi.org/project/PySpice/) - Circuit simulation\n",
    "- [Scikit-rf](http://scikit-rf.org/) - RF and microwave engineering\n",
    "- [Magpylib](https://magpylib.readthedocs.io/en/latest/) - Magnetic field simluations\n",
    "- [Scikit-image](https://scikit-image.org/) - Image processing\n",
    "- Data acquisition - [National Instruments](https://knowledge.ni.com/KnowledgeArticleDetails?id=kA00Z0000019Pf1SAE), [Measurement Computing/Omega](https://pypi.org/project/mcculw/), [Microdaq](http://www.microdaq.org/software/python/using-microdaq-with-python.html), [OpenDAQ](https://github.com/openDAQ/python-opendaq), [DATAQ](https://www.dataq.com/blog/data-acquisition/programming/python-github/), [LabJack](https://labjack.com/support/software/examples/ljm/python), [Opto22](http://developer.opto22.com/pythonmmp/pythonpackage/)\n",
    "- Physics, Astronomy, Biology, Chemistry, Machine learning, etc."
   ]
  },
  {
   "cell_type": "code",
   "execution_count": null,
   "id": "769d76c6-f57e-41b4-91b6-209196b01e7b",
   "metadata": {},
   "outputs": [],
   "source": []
  }
 ],
 "metadata": {
  "kernelspec": {
   "display_name": "Python 3 (ipykernel)",
   "language": "python",
   "name": "python3"
  },
  "language_info": {
   "codemirror_mode": {
    "name": "ipython",
    "version": 3
   },
   "file_extension": ".py",
   "mimetype": "text/x-python",
   "name": "python",
   "nbconvert_exporter": "python",
   "pygments_lexer": "ipython3",
   "version": "3.9.12"
  }
 },
 "nbformat": 4,
 "nbformat_minor": 5
}
