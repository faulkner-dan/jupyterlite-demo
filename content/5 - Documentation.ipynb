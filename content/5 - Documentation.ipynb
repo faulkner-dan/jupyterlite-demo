{
 "cells": [
  {
   "attachments": {
    "98b7533f-699f-4d6e-b475-0efe528a5a21.png": {
     "image/png": "[encoded data removed]"
    }
   },
   "cell_type": "markdown",
   "metadata": {},
   "source": [
    "## Documenting your work\n",
    "- Helps organize and record your thoughts\n",
    "- Easier for someone else to understand\n",
    "\n",
    "Even simple Excel formulas aren't easy to decipher:\n",
    "\n",
    "![image.png](attachment:98b7533f-699f-4d6e-b475-0efe528a5a21.png)\n",
    "\n",
    "Compare this to:"
   ]
  },
  {
   "cell_type": "code",
   "execution_count": null,
   "metadata": {},
   "outputs": [],
   "source": [
    "mass = 5 #kg\n",
    "velocity = 10 #m/s\n",
    "distance = 1 #m\n",
    "\n",
    "#First calculate the kinetic energy:\n",
    "kinetic_energy = 0.5*mass*velocity**2\n",
    "\n",
    "#Then calculate the force, using Work = Kinetic Energy:\n",
    "force = kinetic_energy/distance #Newtons\n",
    "\n",
    "print('Force =',force,'N')"
   ]
  },
  {
   "attachments": {
    "c08c4520-0931-4ac9-bc12-17197cb3d90d.png": {
     "image/png": "[encoded data removed]"
    }
   },
   "cell_type": "markdown",
   "metadata": {},
   "source": [
    "And if you want to get really, fancy, you can include pictures and equations:\n",
    "### Deceleration force calculator\n",
    "This calculates the force required to bring a moving mass to a stop over a given distance.\n",
    "\n",
    "![image.png](attachment:c08c4520-0931-4ac9-bc12-17197cb3d90d.png)\n",
    "\n",
    "Work = Change in Kinetic energy:\n",
    "\n",
    "1. $E_{kinetic}= \\frac{1}{2}mv^2$\n",
    "\n",
    "and Work = force * distance:\n",
    "\n",
    "2. $W = F*d$\n",
    "\n",
    "So:\n",
    "\n",
    "3. $F = \\frac{E_{kinetic}}{d} = \\frac{mv^2}{2d}$"
   ]
  },
  {
   "cell_type": "markdown",
   "metadata": {},
   "source": [
    "--\n",
    "### Markdown cells use simple, intuitive commands to format text:\n",
    "\n",
    "# Headings\n",
    "## Headings\n",
    "### Headings\n",
    "#### Headings\n",
    "##### Headings\n",
    "###### Headings\n",
    "\n",
    "---\n",
    "\n",
    "Text, *italics*, **bold**, __underline__, ~~strikethrough~~\n",
    "\n",
    "1. Numbered\n",
    "2. Lists\n",
    "\n",
    "- Bulleted lists\n",
    "    - Multiple\n",
    "    - Levels\n",
    "        - and sublevels\n",
    "\n",
    "Quoted text:\n",
    ">Lorem ipsum dolor sit amet, consectetur adipiscing elit, sed do eiusmod tempor incididunt ut labore et dolore magna aliqua. Ut enim ad minim veniam, quis nostrud exercitation ullamco laboris nisi ut aliquip ex ea commodo consequat. Duis aute irure dolor in reprehenderit in voluptate velit esse cillum dolore eu fugiat nulla pariatur. Excepteur sint occaecat cupidatat non proident, sunt in culpa qui officia deserunt mollit anim id est laborum.\n",
    "\n",
    "---\n",
    "Equations can be inline: $e^{i\\pi} + 1 = 0$, or separate:\n",
    "\n",
    "\\begin{equation}\n",
    "e^x=\\sum_{i=0}^\\infty \\frac{x^i}{i!}\n",
    "\\end{equation}\n",
    "\n",
    "---\n",
    "\n",
    "Images: ![Image](https://www.andrews-cooper.com/wp-content/uploads/2022/10/cropped-AC-Site-Logo.png)\n",
    "\n",
    "Hyperlinks: [Andrews Cooper website](https://www.andrews-cooper.com/)\n",
    "\n",
    "Tables:\n",
    "\n",
    "|This|is|\n",
    "|-|-|\n",
    "|a|table|\n"
   ]
  }
 ],
 "metadata": {
  "kernelspec": {
   "display_name": "Python 3 (ipykernel)",
   "language": "python",
   "name": "python3"
  },
  "language_info": {
   "codemirror_mode": {
    "name": "ipython",
    "version": 3
   },
   "file_extension": ".py",
   "mimetype": "text/x-python",
   "name": "python",
   "nbconvert_exporter": "python",
   "pygments_lexer": "ipython3",
   "version": "3.9.12"
  }
 },
 "nbformat": 4,
 "nbformat_minor": 4
}
