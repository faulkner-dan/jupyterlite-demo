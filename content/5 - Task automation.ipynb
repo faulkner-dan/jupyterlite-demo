{
  "metadata": {
    "language_info": {
      "codemirror_mode": {
        "name": "python",
        "version": 3
      },
      "file_extension": ".py",
      "mimetype": "text/x-python",
      "name": "python",
      "nbconvert_exporter": "python",
      "pygments_lexer": "ipython3",
      "version": "3.8"
    },
    "kernelspec": {
      "name": "python",
      "display_name": "Python (Pyodide)",
      "language": "python"
    }
  },
  "nbformat_minor": 4,
  "nbformat": 4,
  "cells": [
    {
      "cell_type": "code",
      "source": "import os, fnmatch\n\nfile_path = os.getcwd()+'/A folder full of data/'\n\nfiles_to_rename = fnmatch.filter(os.listdir(file_path), '*.xlsx')\n\nfor filename in files_to_rename:\n        newname = filename.replace('output ','Test data 2023-04-19-')\n        # newname = filename.replace('Test data 2023-04-19-','output ')\n        os.rename (file_path + filename, file_path + newname)\n",
      "metadata": {
        "trusted": true
      },
      "execution_count": 22,
      "outputs": []
    },
    {
      "cell_type": "code",
      "source": "",
      "metadata": {},
      "execution_count": null,
      "outputs": []
    }
  ]
}