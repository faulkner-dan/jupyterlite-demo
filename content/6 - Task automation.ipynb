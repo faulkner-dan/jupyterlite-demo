{
 "cells": [
  {
   "cell_type": "markdown",
   "metadata": {},
   "source": [
    "Python is great for quick automation of repetitive tasks.\n",
    "\n",
    "This code renames a bunch of Excel files all at once."
   ]
  },
  {
   "cell_type": "code",
   "execution_count": null,
   "metadata": {},
   "outputs": [],
   "source": [
    "import os, fnmatch\n",
    "\n",
    "file_path = '/drive/data/A_folder_full_of_data/'\n",
    "\n",
    "files_to_rename = fnmatch.filter(os.listdir(file_path), '*.xlsx')\n",
    "\n",
    "for filename in files_to_rename:\n",
    "        newname = filename.replace('output ','Test data 2023-04-19-')\n",
    "        os.rename (file_path + filename, file_path + newname)"
   ]
  }
 ],
 "metadata": {
  "kernelspec": {
   "display_name": "Python 3 (ipykernel)",
   "language": "python",
   "name": "python3"
  },
  "language_info": {
   "codemirror_mode": {
    "name": "ipython",
    "version": 3
   },
   "file_extension": ".py",
   "mimetype": "text/x-python",
   "name": "python",
   "nbconvert_exporter": "python",
   "pygments_lexer": "ipython3",
   "version": "3.9.12"
  }
 },
 "nbformat": 4,
 "nbformat_minor": 4
}
