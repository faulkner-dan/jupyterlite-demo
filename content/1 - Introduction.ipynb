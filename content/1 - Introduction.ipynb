{
  "metadata": {
    "language_info": {
      "codemirror_mode": {
        "name": "python",
        "version": 3
      },
      "file_extension": ".py",
      "mimetype": "text/x-python",
      "name": "python",
      "nbconvert_exporter": "python",
      "pygments_lexer": "ipython3",
      "version": "3.8"
    },
    "kernelspec": {
      "name": "python",
      "display_name": "Python (Pyodide)",
      "language": "python"
    }
  },
  "nbformat_minor": 4,
  "nbformat": 4,
  "cells": [
    {
      "cell_type": "markdown",
      "source": "# A brief introduction to Jupyter Lab\n---\n## Jupyter Lab is:\n- A an open-source \"notebook\" environment for computation and data discovery\n- A place to write informal programs in Python, Julia, R (and others)\n- A way to document engineering calculations and analysis\n## Jupyter Lab is not:\n- A full-featured IDE for writing production-quality code\n---",
      "metadata": {}
    },
    {
      "cell_type": "markdown",
      "source": "### In Jupyter Lab, code is contained in cells\nEach cell can be run as a separate \"snippet\" of code\n\nTo run the code in a cell, click anywhere inside the cell and then click the Run button,\n\n![image.png](attachment:8b7b5230-10b3-4b1e-95b1-4795bbac637c.png)\n\nor press Shift-Enter:",
      "metadata": {},
      "attachments": {
        "8b7b5230-10b3-4b1e-95b1-4795bbac637c.png": {
          "image/png": "[encoded data removed]"
        }
      }
    },
    {
      "cell_type": "code",
      "source": "print ('Hello world!')",
      "metadata": {
        "trusted": true
      },
      "execution_count": 2,
      "outputs": [
        {
          "name": "stdout",
          "text": "Hello world!\n",
          "output_type": "stream"
        }
      ]
    },
    {
      "cell_type": "markdown",
      "source": "Variables are global (shared between all cells), you can define a variable in one cell:",
      "metadata": {}
    },
    {
      "cell_type": "code",
      "source": "text = 'Hello world!'",
      "metadata": {
        "trusted": true
      },
      "execution_count": 3,
      "outputs": []
    },
    {
      "cell_type": "markdown",
      "source": "...and use that variable in another cell:",
      "metadata": {}
    },
    {
      "cell_type": "code",
      "source": "print (text)",
      "metadata": {
        "trusted": true
      },
      "execution_count": null,
      "outputs": []
    },
    {
      "cell_type": "markdown",
      "source": "Cells do not need to be run in order (try running the next cell below, and then the previous cell above):",
      "metadata": {}
    },
    {
      "cell_type": "code",
      "source": "text = 'Goodbye, cruel world!'",
      "metadata": {
        "trusted": true
      },
      "execution_count": null,
      "outputs": []
    },
    {
      "cell_type": "markdown",
      "source": "### Simple math in a cell",
      "metadata": {}
    },
    {
      "cell_type": "code",
      "source": "mass = 5 #kg\nvelocity = 10 #m/s\n\nkinetic_energy = 0.5*mass*velocity**2 #Joules\n\nkinetic_energy",
      "metadata": {
        "trusted": true
      },
      "execution_count": null,
      "outputs": []
    }
  ]
}