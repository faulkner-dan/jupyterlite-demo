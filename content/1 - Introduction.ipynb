{
 "cells": [
  {
   "cell_type": "markdown",
   "metadata": {},
   "source": [
    "# A brief introduction to Jupyter Lab\n",
    "---\n",
    "## Jupyter Lab is:\n",
    "- A an open-source \"notebook\" environment for computation and data discovery\n",
    "- A place to write informal programs in Python, Julia, R (and others)\n",
    "- A way to document engineering calculations and analysis\n",
    "\n",
    "## Jupyter Lab is not:\n",
    "- A full-featured IDE for writing production-quality code\n",
    "---"
   ]
  },
  {
   "attachments": {
    "8b7b5230-10b3-4b1e-95b1-4795bbac637c.png": {
     "image/png": "[encoded data removed]"
    }
   },
   "cell_type": "markdown",
   "metadata": {},
   "source": [
    "### In Jupyter Lab, code is contained in cells\n",
    "Each cell can be run as a separate \"snippet\" of code\n",
    "\n",
    "To run the code in a cell, click anywhere inside the cell and then click the Run button,\n",
    "\n",
    "![image.png](attachment:8b7b5230-10b3-4b1e-95b1-4795bbac637c.png)\n",
    "\n",
    "or press Shift-Enter. Try it in the cell below ↓\n"
   ]
  },
  {
   "cell_type": "code",
   "execution_count": null,
   "metadata": {},
   "outputs": [],
   "source": [
    "print ('Hello world!')"
   ]
  },
  {
   "cell_type": "markdown",
   "metadata": {},
   "source": [
    "Variables are global (shared between all cells), you can define a variable in one cell:"
   ]
  },
  {
   "cell_type": "code",
   "execution_count": null,
   "metadata": {},
   "outputs": [],
   "source": [
    "text = 'Hello world!'"
   ]
  },
  {
   "cell_type": "markdown",
   "metadata": {},
   "source": [
    "...and use that variable in another cell:"
   ]
  },
  {
   "cell_type": "code",
   "execution_count": null,
   "metadata": {},
   "outputs": [],
   "source": [
    "print (text)"
   ]
  },
  {
   "cell_type": "markdown",
   "metadata": {},
   "source": [
    "Cells do not need to be run in order (try running the next cell below, and then the previous cell above):"
   ]
  },
  {
   "cell_type": "code",
   "execution_count": null,
   "metadata": {},
   "outputs": [],
   "source": [
    "text = 'Goodbye, cruel world!'"
   ]
  },
  {
   "cell_type": "markdown",
   "metadata": {},
   "source": [
    "### Simple math in a cell"
   ]
  },
  {
   "cell_type": "code",
   "execution_count": null,
   "metadata": {},
   "outputs": [],
   "source": [
    "mass = 5 #kg\n",
    "velocity = 10 #m/s\n",
    "\n",
    "kinetic_energy = 0.5*mass*velocity**2 #Joules\n",
    "\n",
    "kinetic_energy"
   ]
  }
 ],
 "metadata": {
  "kernelspec": {
   "display_name": "Python 3 (ipykernel)",
   "language": "python",
   "name": "python3"
  },
  "language_info": {
   "codemirror_mode": {
    "name": "ipython",
    "version": 3
   },
   "file_extension": ".py",
   "mimetype": "text/x-python",
   "name": "python",
   "nbconvert_exporter": "python",
   "pygments_lexer": "ipython3",
   "version": "3.9.12"
  }
 },
 "nbformat": 4,
 "nbformat_minor": 4
}
