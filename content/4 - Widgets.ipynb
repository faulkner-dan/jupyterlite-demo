{
 "cells": [
  {
   "cell_type": "markdown",
   "metadata": {},
   "source": [
    "# Widgets\n",
    "Widgets are interactive elements that you can use to control things in your notebook.\n",
    "\n",
    "First, load some libraries:"
   ]
  },
  {
   "cell_type": "code",
   "execution_count": null,
   "metadata": {},
   "outputs": [],
   "source": [
    "%pip install -q ipywidgets\n",
    "%pip install -q ipympl\n",
    "%matplotlib widget\n",
    "import numpy as np\n",
    "import matplotlib.pyplot as plt\n",
    "import ipywidgets as widgets"
   ]
  },
  {
   "cell_type": "markdown",
   "metadata": {},
   "source": [
    "The simplest widget is just a slider:"
   ]
  },
  {
   "cell_type": "code",
   "execution_count": null,
   "metadata": {},
   "outputs": [],
   "source": [
    "widgets.IntSlider(0,10)"
   ]
  },
  {
   "cell_type": "markdown",
   "metadata": {},
   "source": [
    "By itself, that's not very exciting! Widgets become more useful if you use them to adjust variables in your calculations:"
   ]
  },
  {
   "cell_type": "code",
   "execution_count": null,
   "metadata": {},
   "outputs": [],
   "source": [
    "def KineticEnergy (mass,velocity):\n",
    "    ke = 0.5*mass*velocity**2\n",
    "    return 'Kinetic Energy = '+ str(ke) + ' Joules'\n",
    "\n",
    "widgets.interact(KineticEnergy, mass=(0,10), velocity=(0,100));"
   ]
  },
  {
   "cell_type": "markdown",
   "metadata": {},
   "source": [
    "You can use widgets to control almost any variable in Python. For example, you can use them to create interactive plots:"
   ]
  },
  {
   "cell_type": "code",
   "execution_count": null,
   "metadata": {},
   "outputs": [],
   "source": [
    "x = np.linspace(0, 2 * np.pi,1000)\n",
    "fig = plt.figure()\n",
    "ax = fig.add_subplot(1, 1, 1)\n",
    "line, = ax.plot(x, np.sin(x))\n",
    "\n",
    "def update(frequency=(1,25.0,0.1), amplitude=(0.1,1,.05),function=['Sine','Cosine']):\n",
    "    if function == 'Sine':\n",
    "        line.set_ydata(amplitude*np.sin(frequency * x))\n",
    "    elif function == 'Cosine':\n",
    "        line.set_ydata(amplitude*np.cos(frequency * x))\n",
    "    fig.canvas.draw_idle()\n",
    "\n",
    "widgets.interact(update);"
   ]
  },
  {
   "cell_type": "markdown",
   "metadata": {},
   "source": [
    "### Widget types\n",
    "- Sliders\n",
    "- Progress bars\n",
    "- Text fields\n",
    "- Toggle buttons\n",
    "- Checkboxes\n",
    "- Dropdowns\n",
    "- Radio buttons\n",
    "- HTML\n",
    "- Image\n",
    "- Button\n",
    "- Play/stop\n",
    "- Date picker\n",
    "- Color picker\n",
    "- File upload\n",
    "- Layout, grouping, nesting, tabs, etc."
   ]
  }
 ],
 "metadata": {
  "kernelspec": {
   "display_name": "Python 3 (ipykernel)",
   "language": "python",
   "name": "python3"
  },
  "language_info": {
   "codemirror_mode": {
    "name": "ipython",
    "version": 3
   },
   "file_extension": ".py",
   "mimetype": "text/x-python",
   "name": "python",
   "nbconvert_exporter": "python",
   "pygments_lexer": "ipython3",
   "version": "3.9.12"
  }
 },
 "nbformat": 4,
 "nbformat_minor": 4
}
